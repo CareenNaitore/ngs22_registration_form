{
 "cells": [
  {
   "cell_type": "markdown",
   "id": "768bc112-fa92-4910-b622-ebd313f1ef65",
   "metadata": {},
   "source": [
    "# C2 - Protein sequence\n",
    "Below you will find the amino acid sequence of BRCA2 (each letter represents one amino acid). Which amino acids are the most and the least frequent ones in this sequence and how many times they are present?\n"
   ]
  },
  {
   "cell_type": "markdown",
   "id": "037d1ee2-dfab-488b-a670-ff3c98db1252",
   "metadata": {},
   "source": [
    "### Generate a mutable list for analysis"
   ]
  },
  {
   "cell_type": "code",
   "execution_count": 1,
   "id": "090b267f-3252-42a1-9caa-fd9ceea264fa",
   "metadata": {},
   "outputs": [
    {
     "name": "stdout",
     "output_type": "stream",
     "text": [
      "['M', 'P', 'I', 'G', 'S', 'K', 'E', 'R', 'P', 'T', 'F', 'F', 'E', 'I', 'F', 'K', 'T', 'R', 'C', 'N', 'K', 'A', 'D', 'L', 'G', 'P', 'I', 'S', 'L', 'N', 'W', 'F', 'E', 'E', 'L', 'S', 'S', 'E', 'A', 'P', 'P', 'Y', 'N', 'S', 'E', 'P', 'A', 'E', 'E', 'S', 'E', 'H', 'K', 'N', 'N', 'N', 'Y', 'E', 'P', 'N', 'L', 'F', 'K', 'T', 'P', 'Q', 'R', 'K', 'P', 'S', 'Y', 'N', 'Q', 'L', 'A', 'S', 'T', 'P', 'I', 'I', 'F', 'K', 'E', 'Q', 'G', 'L', 'T', 'L', 'P', 'L', 'Y', 'Q', 'S', 'P', 'V', 'K', 'E', 'L', 'D', 'K', 'F', 'K', 'L', 'D', 'L', 'G', 'R', 'N', 'V', 'P', 'N', 'S', 'R', 'H', 'K', 'S', 'L', 'R', 'T', 'V', 'K', 'T', 'K', 'M', 'D', 'Q', 'A', 'D', 'D', 'V', 'S', 'C', 'P', 'L', 'L', 'N', 'S', 'C', 'L', 'S', 'E', 'S', 'P', 'V', 'V', 'L', 'Q', 'C', 'T', 'H', 'V', 'T', 'P', 'Q', 'R', 'D', 'K', 'S', 'V', 'V', 'C', 'G', 'S', 'L', 'F', 'H', 'T', 'P', 'K', 'F', 'V', 'K', 'G', 'R', 'Q', 'T', 'P', 'K', 'H', 'I', 'S', 'E', 'S', 'L', 'G', 'A', 'E', 'V', 'D', 'P', 'D', 'M', 'S', 'W', 'S', 'S', 'S', 'L', 'A', 'T', 'P', 'P', 'T', 'L', 'S', 'S', 'T', 'V', 'L', 'I', 'V', 'R', 'N', 'E', 'E', 'A', 'S', 'E', 'T', 'V', 'F', 'P', 'H', 'D', 'T', 'T', 'A', 'N', 'V', 'K', 'S', 'Y', 'F', 'S', 'N', 'H', 'D', 'E', 'S', 'L', 'K', 'K', 'N', 'D', 'R', 'F', 'I', 'A', 'S', 'V', 'T', 'D', 'S', 'E', 'N', 'T', 'N', 'Q', 'R', 'E', 'A', 'A', 'S', 'H', 'G', 'F', 'G', 'K', 'T', 'S', 'G', 'N', 'S', 'F', 'K', 'V', 'N', 'S', 'C', 'K', 'D', 'H', 'I', 'G', 'K', 'S', 'M', 'P', 'N', 'V', 'L', 'E', 'D', 'E', 'V', 'Y', 'E', 'T', 'V', 'V', 'D', 'T', 'S', 'E', 'E', 'D', 'S', 'F', 'S', 'L', 'C', 'F', 'S', 'K', 'C', 'R', 'T', 'K', 'N', 'L', 'Q', 'K', 'V', 'R', 'T', 'S', 'K', 'T', 'R', 'K', 'K', 'I', 'F', 'H', 'E', 'A', 'N', 'A', 'D', 'E', 'C', 'E', 'K', 'S', 'K', 'N', 'Q', 'V', 'K', 'E', 'K', 'Y', 'S', 'F', 'V', 'S', 'E', 'V', 'E', 'P', 'N', 'D', 'T', 'D', 'P', 'L', 'D', 'S', 'N', 'V', 'A', 'N', 'Q', 'K', 'P', 'F', 'E', 'S', 'G', 'S', 'D', 'K', 'I', 'S', 'K', 'E', 'V', 'V', 'P', 'S', 'L', 'A', 'C', 'E', 'W', 'S', 'Q', 'L', 'T', 'L', 'S', 'G', 'L', 'N', 'G', 'A', 'Q', 'M', 'E', 'K', 'I', 'P', 'L', 'L', 'H', 'I', 'S', 'S', 'C', 'D', 'Q', 'N', 'I', 'S', 'E', 'K', 'D', 'L', 'L', 'D', 'T', 'E', 'N', 'K', 'R', 'K', 'K', 'D', 'F', 'L', 'T', 'S', 'E', 'N', 'S', 'L', 'P', 'R', 'I', 'S', 'S', 'L', 'P', 'K', 'S', 'E', 'K', 'P', 'L', 'N', 'E', 'E', 'T', 'V', 'V', 'N', 'K', 'R', 'D', 'E', 'E', 'Q', 'H', 'L', 'E', 'S', 'H', 'T', 'D', 'C', 'I', 'L', 'A', 'V', 'K', 'Q', 'A', 'I', 'S', 'G', 'T', 'S', 'P', 'V', 'A', 'S', 'S', 'F', 'Q', 'G', 'I', 'K', 'K', 'S', 'I', 'F', 'R', 'I', 'R', 'E', 'S', 'P', 'K', 'E', 'T', 'F', 'N', 'A', 'S', 'F', 'S', 'G', 'H', 'M', 'T', 'D', 'P', 'N', 'F', 'K', 'K', 'E', 'T', 'E', 'A', 'S', 'E', 'S', 'G', 'L', 'E', 'I', 'H', 'T', 'V', 'C', 'S', 'Q', 'K', 'E', 'D', 'S', 'L', 'C', 'P', 'N', 'L', 'I', 'D', 'N', 'G', 'S', 'W', 'P', 'A', 'T', 'T', 'T', 'Q', 'N', 'S', 'V', 'A', 'L', 'K', 'N', 'A', 'G', 'L', 'I', 'S', 'T', 'L', 'K', 'K', 'K', 'T', 'N', 'K', 'F', 'I', 'Y', 'A', 'I', 'H', 'D', 'E', 'T', 'S', 'Y', 'K', 'G', 'K', 'K', 'I', 'P', 'K', 'D', 'Q', 'K', 'S', 'E', 'L', 'I', 'N', 'C', 'S', 'A', 'Q', 'F', 'E', 'A', 'N', 'A', 'F', 'E', 'A', 'P', 'L', 'T', 'F', 'A', 'N', 'A', 'D', 'S', 'G', 'L', 'L', 'H', 'S', 'S', 'V', 'K', 'R', 'S', 'C', 'S', 'Q', 'N', 'D', 'S', 'E', 'E', 'P', 'T', 'L', 'S', 'L', 'T', 'S', 'S', 'F', 'G', 'T', 'I', 'L', 'R', 'K', 'C', 'S', 'R', 'N', 'E', 'T', 'C', 'S', 'N', 'N', 'T', 'V', 'I', 'S', 'Q', 'D', 'L', 'D', 'Y', 'K', 'E', 'A', 'K', 'C', 'N', 'K', 'E', 'K', 'L', 'Q', 'L', 'F', 'I', 'T', 'P', 'E', 'A', 'D', 'S', 'L', 'S', 'C', 'L', 'Q', 'E', 'G', 'Q', 'C', 'E', 'N', 'D', 'P', 'K', 'S', 'K', 'K', 'V', 'S', 'D', 'I', 'K', 'E', 'E', 'V', 'L', 'A', 'A', 'A', 'C', 'H', 'P', 'V', 'Q', 'H', 'S', 'K', 'V', 'E', 'Y', 'S', 'D', 'T', 'D', 'F', 'Q', 'S', 'Q', 'K', 'S', 'L', 'L', 'Y', 'D', 'H', 'E', 'N', 'A', 'S', 'T', 'L', 'I', 'L', 'T', 'P', 'T', 'S', 'K', 'D', 'V', 'L', 'S', 'N', 'L', 'V', 'M', 'I', 'S', 'R', 'G', 'K', 'E', 'S', 'Y', 'K', 'M', 'S', 'D', 'K', 'L', 'K', 'G', 'N', 'N', 'Y', 'E', 'S', 'D', 'V', 'E', 'L', 'T', 'K', 'N', 'I', 'P', 'M', 'E', 'K', 'N', 'Q', 'D', 'V', 'C', 'A', 'L', 'N', 'E', 'N', 'Y', 'K', 'N', 'V', 'E', 'L', 'L', 'P', 'P', 'E', 'K', 'Y', 'M', 'R', 'V', 'A', 'S', 'P', 'S', 'R', 'K', 'V', 'Q', 'F', 'N', 'Q', 'N', 'T', 'N', 'L', 'R', 'V', 'I', 'Q', 'K', 'N', 'Q', 'E', 'E', 'T', 'T', 'S', 'I', 'S', 'K', 'I', 'T', 'V', 'N', 'P', 'D', 'S', 'E', 'E', 'L', 'F', 'S', 'D', 'N', 'E', 'N', 'N', 'F', 'V', 'F', 'Q', 'V', 'A', 'N', 'E', 'R', 'N', 'N', 'L', 'A', 'L', 'G', 'N', 'T', 'K', 'E', 'L', 'H', 'E', 'T', 'D', 'L', 'T', 'C', 'V', 'N', 'E', 'P', 'I', 'F', 'K', 'N', 'S', 'T', 'M', 'V', 'L', 'Y', 'G', 'D', 'T', 'G', 'D', 'K', 'Q', 'A', 'T', 'Q', 'V', 'S', 'I', 'K', 'K', 'D', 'L', 'V', 'Y', 'V', 'L', 'A', 'E', 'E', 'N', 'K', 'N', 'S', 'V', 'K', 'Q', 'H', 'I', 'K', 'M', 'T', 'L', 'G', 'Q', 'D', 'L', 'K', 'S', 'D', 'I', 'S', 'L', 'N', 'I', 'D', 'K', 'I', 'P', 'E', 'K', 'N', 'N', 'D', 'Y', 'M', 'N', 'K', 'W', 'A', 'G', 'L', 'L', 'G', 'P', 'I', 'S', 'N', 'H', 'S', 'F', 'G', 'G', 'S', 'F', 'R', 'T', 'A', 'S', 'N', 'K', 'E', 'I', 'K', 'L', 'S', 'E', 'H', 'N', 'I', 'K', 'K', 'S', 'K', 'M', 'F', 'F', 'K', 'D', 'I', 'E', 'E', 'Q', 'Y', 'P', 'T', 'S', 'L', 'A', 'C', 'V', 'E', 'I', 'V', 'N', 'T', 'L', 'A', 'L', 'D', 'N', 'Q', 'K', 'K', 'L', 'S', 'K', 'P', 'Q', 'S', 'I', 'N', 'T', 'V', 'S', 'A', 'H', 'L', 'Q', 'S', 'S', 'V', 'V', 'V', 'S', 'D', 'C', 'K', 'N', 'S', 'H', 'I', 'T', 'P', 'Q', 'M', 'L', 'F', 'S', 'K', 'Q', 'D', 'F', 'N', 'S', 'N', 'H', 'N', 'L', 'T', 'P', 'S', 'Q', 'K', 'A', 'E', 'I', 'T', 'E', 'L', 'S', 'T', 'I', 'L', 'E', 'E', 'S', 'G', 'S', 'Q', 'F', 'E', 'F', 'T', 'Q', 'F', 'R', 'K', 'P', 'S', 'Y', 'I', 'L', 'Q', 'K', 'S', 'T', 'F', 'E', 'V', 'P', 'E', 'N', 'Q', 'M', 'T', 'I', 'L', 'K', 'T', 'T', 'S', 'E', 'E', 'C', 'R', 'D', 'A', 'D', 'L', 'H', 'V', 'I', 'M', 'N', 'A', 'P', 'S', 'I', 'G', 'Q', 'V', 'D', 'S', 'S', 'K', 'Q', 'F', 'E', 'G', 'T', 'V', 'E', 'I', 'K', 'R', 'K', 'F', 'A', 'G', 'L', 'L', 'K', 'N', 'D', 'C', 'N', 'K', 'S', 'A', 'S', 'G', 'Y', 'L', 'T', 'D', 'E', 'N', 'E', 'V', 'G', 'F', 'R', 'G', 'F', 'Y', 'S', 'A', 'H', 'G', 'T', 'K', 'L', 'N', 'V', 'S', 'T', 'E', 'A', 'L', 'Q', 'K', 'A', 'V', 'K', 'L', 'F', 'S', 'D', 'I', 'E', 'N', 'I', 'S', 'E', 'E', 'T', 'S', 'A', 'E', 'V', 'H', 'P', 'I', 'S', 'L', 'S', 'S', 'S', 'K', 'C', 'H', 'D', 'S', 'V', 'V', 'S', 'M', 'F', 'K', 'I', 'E', 'N', 'H', 'N', 'D', 'K', 'T', 'V', 'S', 'E', 'K', 'N', 'N', 'K', 'C', 'Q', 'L', 'I', 'L', 'Q', 'N', 'N', 'I', 'E', 'M', 'T', 'T', 'G', 'T', 'F', 'V', 'E', 'E', 'I', 'T', 'E', 'N', 'Y', 'K', 'R', 'N', 'T', 'E', 'N', 'E', 'D', 'N', 'K', 'Y', 'T', 'A', 'A', 'S', 'R', 'N', 'S', 'H', 'N', 'L', 'E', 'F', 'D', 'G', 'S', 'D', 'S', 'S', 'K', 'N', 'D', 'T', 'V', 'C', 'I', 'H', 'K', 'D', 'E', 'T', 'D', 'L', 'L', 'F', 'T', 'D', 'Q', 'H', 'N', 'I', 'C', 'L', 'K', 'L', 'S', 'G', 'Q', 'F', 'M', 'K', 'E', 'G', 'N', 'T', 'Q', 'I', 'K', 'E', 'D', 'L', 'S', 'D', 'L', 'T', 'F', 'L', 'E', 'V', 'A', 'K', 'A', 'Q', 'E', 'A', 'C', 'H', 'G', 'N', 'T', 'S', 'N', 'K', 'E', 'Q', 'L', 'T', 'A', 'T', 'K', 'T', 'E', 'Q', 'N', 'I', 'K', 'D', 'F', 'E', 'T', 'S', 'D', 'T', 'F', 'F', 'Q', 'T', 'A', 'S', 'G', 'K', 'N', 'I', 'S', 'V', 'A', 'K', 'E', 'S', 'F', 'N', 'K', 'I', 'V', 'N', 'F', 'F', 'D', 'Q', 'K', 'P', 'E', 'E', 'L', 'H', 'N', 'F', 'S', 'L', 'N', 'S', 'E', 'L', 'H', 'S', 'D', 'I', 'R', 'K', 'N', 'K', 'M', 'D', 'I', 'L', 'S', 'Y', 'E', 'E', 'T', 'D', 'I', 'V', 'K', 'H', 'K', 'I', 'L', 'K', 'E', 'S', 'V', 'P', 'V', 'G', 'T', 'G', 'N', 'Q', 'L', 'V', 'T', 'F', 'Q', 'G', 'Q', 'P', 'E', 'R', 'D', 'E', 'K', 'I', 'K', 'E', 'P', 'T', 'L', 'L', 'G', 'F', 'H', 'T', 'A', 'S', 'G', 'K', 'K', 'V', 'K', 'I', 'A', 'K', 'E', 'S', 'L', 'D', 'K', 'V', 'K', 'N', 'L', 'F', 'D', 'E', 'K', 'E', 'Q', 'G', 'T', 'S', 'E', 'I', 'T', 'S', 'F', 'S', 'H', 'Q', 'W', 'A', 'K', 'T', 'L', 'K', 'Y', 'R', 'E', 'A', 'C', 'K', 'D', 'L', 'E', 'L', 'A', 'C', 'E', 'T', 'I', 'E', 'I', 'T', 'A', 'A', 'P', 'K', 'C', 'K', 'E', 'M', 'Q', 'N', 'S', 'L', 'N', 'N', 'D', 'K', 'N', 'L', 'V', 'S', 'I', 'E', 'T', 'V', 'V', 'P', 'P', 'K', 'L', 'L', 'S', 'D', 'N', 'L', 'C', 'R', 'Q', 'T', 'E', 'N', 'L', 'K', 'T', 'S', 'K', 'S', 'I', 'F', 'L', 'K', 'V', 'K', 'V', 'H', 'E', 'N', 'V', 'E', 'K', 'E', 'T', 'A', 'K', 'S', 'P', 'A', 'T', 'C', 'Y', 'T', 'N', 'Q', 'S', 'P', 'Y', 'S', 'V', 'I', 'E', 'N', 'S', 'A', 'L', 'A', 'F', 'Y', 'T', 'S', 'C', 'S', 'R', 'K', 'T', 'S', 'V', 'S', 'Q', 'T', 'S', 'L', 'L', 'E', 'A', 'K', 'K', 'W', 'L', 'R', 'E', 'G', 'I', 'F', 'D', 'G', 'Q', 'P', 'E', 'R', 'I', 'N', 'T', 'A', 'D', 'Y', 'V', 'G', 'N', 'Y', 'L', 'Y', 'E', 'N', 'N', 'S', 'N', 'S', 'T', 'I', 'A', 'E', 'N', 'D', 'K', 'N', 'H', 'L', 'S', 'E', 'K', 'Q', 'D', 'T', 'Y', 'L', 'S', 'N', 'S', 'S', 'M', 'S', 'N', 'S', 'Y', 'S', 'Y', 'H', 'S', 'D', 'E', 'V', 'Y', 'N', 'D', 'S', 'G', 'Y', 'L', 'S', 'K', 'N', 'K', 'L', 'D', 'S', 'G', 'I', 'E', 'P', 'V', 'L', 'K', 'N', 'V', 'E', 'D', 'Q', 'K', 'N', 'T', 'S', 'F', 'S', 'K', 'V', 'I', 'S', 'N', 'V', 'K', 'D', 'A', 'N', 'A', 'Y', 'P', 'Q', 'T', 'V', 'N', 'E', 'D', 'I', 'C', 'V', 'E', 'E', 'L', 'V', 'T', 'S', 'S', 'S', 'P', 'C', 'K', 'N', 'K', 'N', 'A', 'A', 'I', 'K', 'L', 'S', 'I', 'S', 'N', 'S', 'N', 'N', 'F', 'E', 'V', 'G', 'P', 'P', 'A', 'F', 'R', 'I', 'A', 'S', 'G', 'K', 'I', 'V', 'C', 'V', 'S', 'H', 'E', 'T', 'I', 'K', 'K', 'V', 'K', 'D', 'I', 'F', 'T', 'D', 'S', 'F', 'S', 'K', 'V', 'I', 'K', 'E', 'N', 'N', 'E', 'N', 'K', 'S', 'K', 'I', 'C', 'Q', 'T', 'K', 'I', 'M', 'A', 'G', 'C', 'Y', 'E', 'A', 'L', 'D', 'D', 'S', 'E', 'D', 'I', 'L', 'H', 'N', 'S', 'L', 'D', 'N', 'D', 'E', 'C', 'S', 'T', 'H', 'S', 'H', 'K', 'V', 'F', 'A', 'D', 'I', 'Q', 'S', 'E', 'E', 'I', 'L', 'Q', 'H', 'N', 'Q', 'N', 'M', 'S', 'G', 'L', 'E', 'K', 'V', 'S', 'K', 'I', 'S', 'P', 'C', 'D', 'V', 'S', 'L', 'E', 'T', 'S', 'D', 'I', 'C', 'K', 'C', 'S', 'I', 'G', 'K', 'L', 'H', 'K', 'S', 'V', 'S', 'S', 'A', 'N', 'T', 'C', 'G', 'I', 'F', 'S', 'T', 'A', 'S', 'G', 'K', 'S', 'V', 'Q', 'V', 'S', 'D', 'A', 'S', 'L', 'Q', 'N', 'A', 'R', 'Q', 'V', 'F', 'S', 'E', 'I', 'E', 'D', 'S', 'T', 'K', 'Q', 'V', 'F', 'S', 'K', 'V', 'L', 'F', 'K', 'S', 'N', 'E', 'H', 'S', 'D', 'Q', 'L', 'T', 'R', 'E', 'E', 'N', 'T', 'A', 'I', 'R', 'T', 'P', 'E', 'H', 'L', 'I', 'S', 'Q', 'K', 'G', 'F', 'S', 'Y', 'N', 'V', 'V', 'N', 'S', 'S', 'A', 'F', 'S', 'G', 'F', 'S', 'T', 'A', 'S', 'G', 'K', 'Q', 'V', 'S', 'I', 'L', 'E', 'S', 'S', 'L', 'H', 'K', 'V', 'K', 'G', 'V', 'L', 'E', 'E', 'F', 'D', 'L', 'I', 'R', 'T', 'E', 'H', 'S', 'L', 'H', 'Y', 'S', 'P', 'T', 'S', 'R', 'Q', 'N', 'V', 'S', 'K', 'I', 'L', 'P', 'R', 'V', 'D', 'K', 'R', 'N', 'P', 'E', 'H', 'C', 'V', 'N', 'S', 'E', 'M', 'E', 'K', 'T', 'C', 'S', 'K', 'E', 'F', 'K', 'L', 'S', 'N', 'N', 'L', 'N', 'V', 'E', 'G', 'G', 'S', 'S', 'E', 'N', 'N', 'H', 'S', 'I', 'K', 'V', 'S', 'P', 'Y', 'L', 'S', 'Q', 'F', 'Q', 'Q', 'D', 'K', 'Q', 'Q', 'L', 'V', 'L', 'G', 'T', 'K', 'V', 'S', 'L', 'V', 'E', 'N', 'I', 'H', 'V', 'L', 'G', 'K', 'E', 'Q', 'A', 'S', 'P', 'K', 'N', 'V', 'K', 'M', 'E', 'I', 'G', 'K', 'T', 'E', 'T', 'F', 'S', 'D', 'V', 'P', 'V', 'K', 'T', 'N', 'I', 'E', 'V', 'C', 'S', 'T', 'Y', 'S', 'K', 'D', 'S', 'E', 'N', 'Y', 'F', 'E', 'T', 'E', 'A', 'V', 'E', 'I', 'A', 'K', 'A', 'F', 'M', 'E', 'D', 'D', 'E', 'L', 'T', 'D', 'S', 'K', 'L', 'P', 'S', 'H', 'A', 'T', 'H', 'S', 'L', 'F', 'T', 'C', 'P', 'E', 'N', 'E', 'E', 'M', 'V', 'L', 'S', 'N', 'S', 'R', 'I', 'G', 'K', 'R', 'R', 'G', 'E', 'P', 'L', 'I', 'L', 'V', 'G', 'E', 'P', 'S', 'I', 'K', 'R', 'N', 'L', 'L', 'N', 'E', 'F', 'D', 'R', 'I', 'I', 'E', 'N', 'Q', 'E', 'K', 'S', 'L', 'K', 'A', 'S', 'K', 'S', 'T', 'P', 'D', 'G', 'T', 'I', 'K', 'D', 'R', 'R', 'L', 'F', 'M', 'H', 'H', 'V', 'S', 'L', 'E', 'P', 'I', 'T', 'C', 'V', 'P', 'F', 'R', 'T', 'T', 'K', 'E', 'R', 'Q', 'E', 'I', 'Q', 'N', 'P', 'N', 'F', 'T', 'A', 'P', 'G', 'Q', 'E', 'F', 'L', 'S', 'K', 'S', 'H', 'L', 'Y', 'E', 'H', 'L', 'T', 'L', 'E', 'K', 'S', 'S', 'S', 'N', 'L', 'A', 'V', 'S', 'G', 'H', 'P', 'F', 'Y', 'Q', 'V', 'S', 'A', 'T', 'R', 'N', 'E', 'K', 'M', 'R', 'H', 'L', 'I', 'T', 'T', 'G', 'R', 'P', 'T', 'K', 'V', 'F', 'V', 'P', 'P', 'F', 'K', 'T', 'K', 'S', 'H', 'F', 'H', 'R', 'V', 'E', 'Q', 'C', 'V', 'R', 'N', 'I', 'N', 'L', 'E', 'E', 'N', 'R', 'Q', 'K', 'Q', 'N', 'I', 'D', 'G', 'H', 'G', 'S', 'D', 'D', 'S', 'K', 'N', 'K', 'I', 'N', 'D', 'N', 'E', 'I', 'H', 'Q', 'F', 'N', 'K', 'N', 'N', 'S', 'N', 'Q', 'A', 'V', 'A', 'V', 'T', 'F', 'T', 'K', 'C', 'E', 'E', 'E', 'P', 'L', 'D', 'L', 'I', 'T', 'S', 'L', 'Q', 'N', 'A', 'R', 'D', 'I', 'Q', 'D', 'M', 'R', 'I', 'K', 'K', 'K', 'Q', 'R', 'Q', 'R', 'V', 'F', 'P', 'Q', 'P', 'G', 'S', 'L', 'Y', 'L', 'A', 'K', 'T', 'S', 'T', 'L', 'P', 'R', 'I', 'S', 'L', 'K', 'A', 'A', 'V', 'G', 'G', 'Q', 'V', 'P', 'S', 'A', 'C', 'S', 'H', 'K', 'Q', 'L', 'Y', 'T', 'Y', 'G', 'V', 'S', 'K', 'H', 'C', 'I', 'K', 'I', 'N', 'S', 'K', 'N', 'A', 'E', 'S', 'F', 'Q', 'F', 'H', 'T', 'E', 'D', 'Y', 'F', 'G', 'K', 'E', 'S', 'L', 'W', 'T', 'G', 'K', 'G', 'I', 'Q', 'L', 'A', 'D', 'G', 'G', 'W', 'L', 'I', 'P', 'S', 'N', 'D', 'G', 'K', 'A', 'G', 'K', 'E', 'E', 'F', 'Y', 'R', 'A', 'L', 'C', 'D', 'T', 'P', 'G', 'V', 'D', 'P', 'K', 'L', 'I', 'S', 'R', 'I', 'W', 'V', 'Y', 'N', 'H', 'Y', 'R', 'W', 'I', 'I', 'W', 'K', 'L', 'A', 'A', 'M', 'E', 'C', 'A', 'F', 'P', 'K', 'E', 'F', 'A', 'N', 'R', 'C', 'L', 'S', 'P', 'E', 'R', 'V', 'L', 'L', 'Q', 'L', 'K', 'Y', 'R', 'Y', 'D', 'T', 'E', 'I', 'D', 'R', 'S', 'R', 'R', 'S', 'A', 'I', 'K', 'K', 'I', 'M', 'E', 'R', 'D', 'D', 'T', 'A', 'A', 'K', 'T', 'L', 'V', 'L', 'C', 'V', 'S', 'D', 'I', 'I', 'S', 'L', 'S', 'A', 'N', 'I', 'S', 'E', 'T', 'S', 'S', 'N', 'K', 'T', 'S', 'S', 'A', 'D', 'T', 'Q', 'K', 'V', 'A', 'I', 'I', 'E', 'L', 'T', 'D', 'G', 'W', 'Y', 'A', 'V', 'K', 'A', 'Q', 'L', 'D', 'P', 'P', 'L', 'L', 'A', 'V', 'L', 'K', 'N', 'G', 'R', 'L', 'T', 'V', 'G', 'Q', 'K', 'I', 'I', 'L', 'H', 'G', 'A', 'E', 'L', 'V', 'G', 'S', 'P', 'D', 'A', 'C', 'T', 'P', 'L', 'E', 'A', 'P', 'E', 'S', 'L', 'M', 'L', 'K', 'I', 'S', 'A', 'N', 'S', 'T', 'R', 'P', 'A', 'R', 'W', 'Y', 'T', 'K', 'L', 'G', 'F', 'F', 'P', 'D', 'P', 'R', 'P', 'F', 'P', 'L', 'P', 'L', 'S', 'S', 'L', 'F', 'S', 'D', 'G', 'G', 'N', 'V', 'G', 'C', 'V', 'D', 'V', 'I', 'I', 'Q', 'R', 'A', 'Y', 'P', 'I', 'Q', 'W', 'M', 'E', 'K', 'T', 'S', 'S', 'G', 'L', 'Y', 'I', 'F', 'R', 'N', 'E', 'R', 'E', 'E', 'E', 'K', 'E', 'A', 'A', 'K', 'Y', 'V', 'E', 'A', 'Q', 'Q', 'K', 'R', 'L', 'E', 'A', 'L', 'F', 'T', 'K', 'I', 'Q', 'E', 'E', 'F', 'E', 'E', 'H', 'E', 'E', 'N', 'T', 'T', 'K', 'P', 'Y', 'L', 'P', 'S', 'R', 'A', 'L', 'T', 'R', 'Q', 'Q', 'V', 'R', 'A', 'L', 'Q', 'D', 'G', 'A', 'E', 'L', 'Y', 'E', 'A', 'V', 'K', 'N', 'A', 'A', 'D', 'P', 'A', 'Y', 'L', 'E', 'G', 'Y', 'F', 'S', 'E', 'E', 'Q', 'L', 'R', 'A', 'L', 'N', 'N', 'H', 'R', 'Q', 'M', 'L', 'N', 'D', 'K', 'K', 'Q', 'A', 'Q', 'I', 'Q', 'L', 'E', 'I', 'R', 'K', 'A', 'M', 'E', 'S', 'A', 'E', 'Q', 'K', 'E', 'Q', 'G', 'L', 'S', 'R', 'D', 'V', 'T', 'T', 'V', 'W', 'K', 'L', 'R', 'I', 'V', 'S', 'Y', 'S', 'K', 'K', 'E', 'K', 'D', 'S', 'V', 'I', 'L', 'S', 'I', 'W', 'R', 'P', 'S', 'S', 'D', 'L', 'Y', 'S', 'L', 'L', 'T', 'E', 'G', 'K', 'R', 'Y', 'R', 'I', 'Y', 'H', 'L', 'A', 'T', 'S', 'K', 'S', 'K', 'S', 'K', 'S', 'E', 'R', 'A', 'N', 'I', 'Q', 'L', 'A', 'A', 'T', 'K', 'K', 'T', 'Q', 'Y', 'Q', 'Q', 'L', 'P', 'V', 'S', 'D', 'E', 'I', 'L', 'F', 'Q', 'I', 'Y', 'Q', 'P', 'R', 'E', 'P', 'L', 'H', 'F', 'S', 'K', 'F', 'L', 'D', 'P', 'D', 'F', 'Q', 'P', 'S', 'C', 'S', 'E', 'V', 'D', 'L', 'I', 'G', 'F', 'V', 'V', 'S', 'V', 'V', 'K', 'K', 'T', 'G', 'L', 'A', 'P', 'F', 'V', 'Y', 'L', 'S', 'D', 'E', 'C', 'Y', 'N', 'L', 'L', 'A', 'I', 'K', 'F', 'W', 'I', 'D', 'L', 'N', 'E', 'D', 'I', 'I', 'K', 'P', 'H', 'M', 'L', 'I', 'A', 'A', 'S', 'N', 'L', 'Q', 'W', 'R', 'P', 'E', 'S', 'K', 'S', 'G', 'L', 'L', 'T', 'L', 'F', 'A', 'G', 'D', 'F', 'S', 'V', 'F', 'S', 'A', 'S', 'P', 'K', 'E', 'G', 'H', 'F', 'Q', 'E', 'T', 'F', 'N', 'K', 'M', 'K', 'N', 'T', 'V', 'E', 'N', 'I', 'D', 'I', 'L', 'C', 'N', 'E', 'A', 'E', 'N', 'K', 'L', 'M', 'H', 'I', 'L', 'H', 'A', 'N', 'D', 'P', 'K', 'W', 'S', 'T', 'P', 'T', 'K', 'D', 'C', 'T', 'S', 'G', 'P', 'Y', 'T', 'A', 'Q', 'I', 'I', 'P', 'G', 'T', 'G', 'N', 'K', 'L', 'L', 'M', 'S', 'S', 'P', 'N', 'C', 'E', 'I', 'Y', 'Y', 'Q', 'S', 'P', 'L', 'S', 'L', 'C', 'M', 'A', 'K', 'R', 'K', 'S', 'V', 'S', 'T', 'P', 'V', 'S', 'A', 'Q', 'M', 'T', 'S', 'K', 'S', 'C', 'K', 'G', 'E', 'K', 'E', 'I', 'D', 'D', 'Q', 'K', 'N', 'C', 'K', 'K', 'R', 'R', 'A', 'L', 'D', 'F', 'L', 'S', 'R', 'L', 'P', 'L', 'P', 'P', 'P', 'V', 'S', 'P', 'I', 'C', 'T', 'F', 'V', 'S', 'P', 'A', 'A', 'Q', 'K', 'A', 'F', 'Q', 'P', 'P', 'R', 'S', 'C', 'G', 'T', 'K', 'Y', 'E', 'T', 'P', 'I', 'K', 'K', 'K', 'E', 'L', 'N', 'S', 'P', 'Q', 'M', 'T', 'P', 'F', 'K', 'K', 'F', 'N', 'E', 'I', 'S', 'L', 'L', 'E', 'S', 'N', 'S', 'I', 'A', 'D', 'E', 'E', 'L', 'A', 'L', 'I', 'N', 'T', 'Q', 'A', 'L', 'L', 'S', 'G', 'S', 'T', 'G', 'E', 'K', 'Q', 'F', 'I', 'S', 'V', 'S', 'E', 'S', 'T', 'R', 'T', 'A', 'P', 'T', 'S', 'S', 'E', 'D', 'Y', 'L', 'R', 'L', 'K', 'R', 'R', 'C', 'T', 'T', 'S', 'L', 'I', 'K', 'E', 'Q', 'E', 'S', 'S', 'Q', 'A', 'S', 'T', 'E', 'E', 'C', 'E', 'K', 'N', 'K', 'Q', 'D', 'T', 'I', 'T', 'T', 'K', 'K', 'Y', 'I']\n"
     ]
    }
   ],
   "source": [
    "# Generated a list\n",
    "protein = \"MPIGSKERPTFFEIFKTRCNKADLGPISLNWFEELSSEAPPYNSEPAEESEHKNNNYEPNLFKTPQRKPSYNQLASTPIIFKEQGLTLPLYQSPVKELDKFKLDLGRNVPNSRHKSLRTVKTKMDQADDVSCPLLNSCLSESPVVLQCTHVTPQRDKSVVCGSLFHTPKFVKGRQTPKHISESLGAEVDPDMSWSSSLATPPTLSSTVLIVRNEEASETVFPHDTTANVKSYFSNHDESLKKNDRFIASVTDSENTNQREAASHGFGKTSGNSFKVNSCKDHIGKSMPNVLEDEVYETVVDTSEEDSFSLCFSKCRTKNLQKVRTSKTRKKIFHEANADECEKSKNQVKEKYSFVSEVEPNDTDPLDSNVANQKPFESGSDKISKEVVPSLACEWSQLTLSGLNGAQMEKIPLLHISSCDQNISEKDLLDTENKRKKDFLTSENSLPRISSLPKSEKPLNEETVVNKRDEEQHLESHTDCILAVKQAISGTSPVASSFQGIKKSIFRIRESPKETFNASFSGHMTDPNFKKETEASESGLEIHTVCSQKEDSLCPNLIDNGSWPATTTQNSVALKNAGLISTLKKKTNKFIYAIHDETSYKGKKIPKDQKSELINCSAQFEANAFEAPLTFANADSGLLHSSVKRSCSQNDSEEPTLSLTSSFGTILRKCSRNETCSNNTVISQDLDYKEAKCNKEKLQLFITPEADSLSCLQEGQCENDPKSKKVSDIKEEVLAAACHPVQHSKVEYSDTDFQSQKSLLYDHENASTLILTPTSKDVLSNLVMISRGKESYKMSDKLKGNNYESDVELTKNIPMEKNQDVCALNENYKNVELLPPEKYMRVASPSRKVQFNQNTNLRVIQKNQEETTSISKITVNPDSEELFSDNENNFVFQVANERNNLALGNTKELHETDLTCVNEPIFKNSTMVLYGDTGDKQATQVSIKKDLVYVLAEENKNSVKQHIKMTLGQDLKSDISLNIDKIPEKNNDYMNKWAGLLGPISNHSFGGSFRTASNKEIKLSEHNIKKSKMFFKDIEEQYPTSLACVEIVNTLALDNQKKLSKPQSINTVSAHLQSSVVVSDCKNSHITPQMLFSKQDFNSNHNLTPSQKAEITELSTILEESGSQFEFTQFRKPSYILQKSTFEVPENQMTILKTTSEECRDADLHVIMNAPSIGQVDSSKQFEGTVEIKRKFAGLLKNDCNKSASGYLTDENEVGFRGFYSAHGTKLNVSTEALQKAVKLFSDIENISEETSAEVHPISLSSSKCHDSVVSMFKIENHNDKTVSEKNNKCQLILQNNIEMTTGTFVEEITENYKRNTENEDNKYTAASRNSHNLEFDGSDSSKNDTVCIHKDETDLLFTDQHNICLKLSGQFMKEGNTQIKEDLSDLTFLEVAKAQEACHGNTSNKEQLTATKTEQNIKDFETSDTFFQTASGKNISVAKESFNKIVNFFDQKPEELHNFSLNSELHSDIRKNKMDILSYEETDIVKHKILKESVPVGTGNQLVTFQGQPERDEKIKEPTLLGFHTASGKKVKIAKESLDKVKNLFDEKEQGTSEITSFSHQWAKTLKYREACKDLELACETIEITAAPKCKEMQNSLNNDKNLVSIETVVPPKLLSDNLCRQTENLKTSKSIFLKVKVHENVEKETAKSPATCYTNQSPYSVIENSALAFYTSCSRKTSVSQTSLLEAKKWLREGIFDGQPERINTADYVGNYLYENNSNSTIAENDKNHLSEKQDTYLSNSSMSNSYSYHSDEVYNDSGYLSKNKLDSGIEPVLKNVEDQKNTSFSKVISNVKDANAYPQTVNEDICVEELVTSSSPCKNKNAAIKLSISNSNNFEVGPPAFRIASGKIVCVSHETIKKVKDIFTDSFSKVIKENNENKSKICQTKIMAGCYEALDDSEDILHNSLDNDECSTHSHKVFADIQSEEILQHNQNMSGLEKVSKISPCDVSLETSDICKCSIGKLHKSVSSANTCGIFSTASGKSVQVSDASLQNARQVFSEIEDSTKQVFSKVLFKSNEHSDQLTREENTAIRTPEHLISQKGFSYNVVNSSAFSGFSTASGKQVSILESSLHKVKGVLEEFDLIRTEHSLHYSPTSRQNVSKILPRVDKRNPEHCVNSEMEKTCSKEFKLSNNLNVEGGSSENNHSIKVSPYLSQFQQDKQQLVLGTKVSLVENIHVLGKEQASPKNVKMEIGKTETFSDVPVKTNIEVCSTYSKDSENYFETEAVEIAKAFMEDDELTDSKLPSHATHSLFTCPENEEMVLSNSRIGKRRGEPLILVGEPSIKRNLLNEFDRIIENQEKSLKASKSTPDGTIKDRRLFMHHVSLEPITCVPFRTTKERQEIQNPNFTAPGQEFLSKSHLYEHLTLEKSSSNLAVSGHPFYQVSATRNEKMRHLITTGRPTKVFVPPFKTKSHFHRVEQCVRNINLEENRQKQNIDGHGSDDSKNKINDNEIHQFNKNNSNQAVAVTFTKCEEEPLDLITSLQNARDIQDMRIKKKQRQRVFPQPGSLYLAKTSTLPRISLKAAVGGQVPSACSHKQLYTYGVSKHCIKINSKNAESFQFHTEDYFGKESLWTGKGIQLADGGWLIPSNDGKAGKEEFYRALCDTPGVDPKLISRIWVYNHYRWIIWKLAAMECAFPKEFANRCLSPERVLLQLKYRYDTEIDRSRRSAIKKIMERDDTAAKTLVLCVSDIISLSANISETSSNKTSSADTQKVAIIELTDGWYAVKAQLDPPLLAVLKNGRLTVGQKIILHGAELVGSPDACTPLEAPESLMLKISANSTRPARWYTKLGFFPDPRPFPLPLSSLFSDGGNVGCVDVIIQRAYPIQWMEKTSSGLYIFRNEREEEKEAAKYVEAQQKRLEALFTKIQEEFEEHEENTTKPYLPSRALTRQQVRALQDGAELYEAVKNAADPAYLEGYFSEEQLRALNNHRQMLNDKKQAQIQLEIRKAMESAEQKEQGLSRDVTTVWKLRIVSYSKKEKDSVILSIWRPSSDLYSLLTEGKRYRIYHLATSKSKSKSERANIQLAATKKTQYQQLPVSDEILFQIYQPREPLHFSKFLDPDFQPSCSEVDLIGFVVSVVKKTGLAPFVYLSDECYNLLAIKFWIDLNEDIIKPHMLIAASNLQWRPESKSGLLTLFAGDFSVFSASPKEGHFQETFNKMKNTVENIDILCNEAENKLMHILHANDPKWSTPTKDCTSGPYTAQIIPGTGNKLLMSSPNCEIYYQSPLSLCMAKRKSVSTPVSAQMTSKSCKGEKEIDDQKNCKKRRALDFLSRLPLPPPVSPICTFVSPAAQKAFQPPRSCGTKYETPIKKKELNSPQMTPFKKFNEISLLESNSIADEELALINTQALLSGSTGEKQFISVSESTRTAPTSSEDYLRLKRRCTTSLIKEQESSQASTEECEKNKQDTITTKKYI\"\n",
    "\n",
    "list_protein=list(protein)\n",
    "print(list_protein)"
   ]
  },
  {
   "cell_type": "markdown",
   "id": "e5d4e262-bb56-43aa-8b45-e45c1e5154f8",
   "metadata": {},
   "source": [
    "#### The code is used to determine the number of amino acid in the protein above"
   ]
  },
  {
   "cell_type": "code",
   "execution_count": 19,
   "id": "eac72d65-3fc4-4d12-8d37-e061d2a55fcf",
   "metadata": {},
   "outputs": [
    {
     "name": "stdout",
     "output_type": "stream",
     "text": [
      "M :  45\n",
      "P :  149\n",
      "I :  187\n",
      "G :  122\n",
      "S :  381\n",
      "K :  322\n",
      "E :  293\n",
      "R :  110\n",
      "T :  220\n",
      "F :  136\n",
      "C :  76\n",
      "N :  230\n",
      "A :  174\n",
      "D :  171\n",
      "L :  281\n",
      "W :  20\n",
      "Y :  79\n",
      "H :  83\n",
      "Q :  154\n",
      "V :  185\n"
     ]
    }
   ],
   "source": [
    "#defined a function\n",
    "import operator\n",
    "def CountFrequency(list_protein):\n",
    "\n",
    "    # Creating an empty dictionary\n",
    "    freq = {}\n",
    "    #calculated the number of frequencies using loop\n",
    "    for item in list_protein:\n",
    "        if (item in freq):\n",
    "            freq[item] += 1\n",
    "        else:\n",
    "            freq[item] = 1\n",
    " # generates dictionaries of all the letters of amino acid and their values \n",
    "    for key, value in freq.items():\n",
    "        print (\"% s : % d\"%(key, value))\n",
    "\n",
    "# Driver function\n",
    "if __name__ == \"__main__\":\n",
    "    list_protein\n",
    "    CountFrequency(list_protein)"
   ]
  }
 ],
 "metadata": {
  "kernelspec": {
   "display_name": "Python 3 (ipykernel)",
   "language": "python",
   "name": "python3"
  },
  "language_info": {
   "codemirror_mode": {
    "name": "ipython",
    "version": 3
   },
   "file_extension": ".py",
   "mimetype": "text/x-python",
   "name": "python",
   "nbconvert_exporter": "python",
   "pygments_lexer": "ipython3",
   "version": "3.9.7"
  }
 },
 "nbformat": 4,
 "nbformat_minor": 5
}
