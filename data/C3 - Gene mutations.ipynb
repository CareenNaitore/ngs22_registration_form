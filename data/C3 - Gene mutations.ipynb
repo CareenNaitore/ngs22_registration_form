{
 "cells": [
  {
   "cell_type": "markdown",
   "id": "7e0d5f3b-5acf-4321-9819-f914e042606c",
   "metadata": {},
   "source": [
    "# C3 - Gene mutations\n",
    "Below you will find 2 nucleotide sequences. They come from the MT-CYB gene that is quite special, \n",
    "because it consists of only 1 exon, thus the whole sequence is a coding region. \n",
    "First sequence is a reference one and the second is one with some mutation. \n",
    "Which of the mutations is present in this sequence and what it results in?"
   ]
  },
  {
   "cell_type": "code",
   "execution_count": 12,
   "id": "04cea4d1-0719-433f-92f2-323dc80eea88",
   "metadata": {},
   "outputs": [
    {
     "name": "stdout",
     "output_type": "stream",
     "text": [
      "('A', 'T', 'G', 'A', 'C', 'C', 'C', 'C', 'A', 'A', 'T', 'A', 'C', 'G', 'C', 'A', 'A', 'A', 'A', 'C', 'T', 'A', 'A', 'C', 'C', 'C', 'C', 'C', 'T', 'A', 'A', 'T', 'A', 'A', 'A', 'A', 'T', 'T', 'A', 'A', 'T', 'T', 'A', 'A', 'C', 'C', 'A', 'C', 'T', 'C', 'A', 'T', 'T', 'C', 'A', 'T', 'C', 'G', 'A', 'C', 'C', 'T', 'C', 'C', 'C', 'C', 'A', 'C', 'C', 'C', 'C', 'A', 'T', 'C', 'C', 'A', 'A', 'C', 'A', 'T', 'C', 'T', 'C', 'C', 'G', 'C', 'A', 'T', 'G', 'A', 'T', 'G', 'A', 'A', 'A', 'C', 'T', 'T', 'C', 'G', 'G', 'C', 'T', 'C', 'A', 'C', 'T', 'C', 'C', 'T', 'T', 'G', 'G', 'C', 'G', 'C', 'C', 'T', 'G', 'C', 'C', 'T', 'G', 'A', 'T', 'C', 'C', 'T', 'C', 'C', 'A', 'A', 'A', 'T', 'C', 'A', 'C', 'C', 'A', 'C', 'A', 'G', 'G', 'A', 'C', 'T', 'A', 'T', 'T', 'C', 'C', 'T', 'A', 'G', 'C', 'C', 'A', 'T', 'G', 'C', 'A', 'C', 'T', 'A', 'C', 'T', 'C', 'A', 'C', 'C', 'A', 'G', 'A', 'C', 'G', 'C', 'C', 'T', 'C', 'A', 'A', 'C', 'C', 'G', 'C', 'C', 'T', 'T', 'T', 'T', 'C', 'A', 'T', 'C', 'A', 'A', 'T', 'C', 'G', 'C', 'C', 'C', 'A', 'C', 'A', 'T', 'C', 'A', 'C', 'T', 'C', 'G', 'A', 'G', 'A', 'C', 'G', 'T', 'A', 'A', 'A', 'T', 'T', 'A', 'T', 'G', 'G', 'C', 'T', 'G', 'A', 'A', 'T', 'C', 'A', 'T', 'C', 'C', 'G', 'C', 'T', 'A', 'C', 'C', 'T', 'T', 'C', 'A', 'C', 'G', 'C', 'C', 'A', 'A', 'T', 'G', 'G', 'C', 'G', 'C', 'C', 'T', 'C', 'A', 'A', 'T', 'A', 'T', 'T', 'C', 'T', 'T', 'T', 'A', 'T', 'C', 'T', 'G', 'C', 'C', 'T', 'C', 'T', 'T', 'C', 'C', 'T', 'A', 'C', 'A', 'C', 'A', 'T', 'C', 'G', 'G', 'G', 'C', 'G', 'A', 'G', 'G', 'C', 'C', 'T', 'A', 'T', 'A', 'T', 'T', 'A', 'C', 'G', 'G', 'A', 'T', 'C', 'A', 'T', 'T', 'T', 'C', 'T', 'C', 'T', 'A', 'C', 'T', 'C', 'A', 'G', 'A', 'A', 'A', 'C', 'C', 'T', 'G', 'A', 'A', 'A', 'C', 'A', 'T', 'C', 'G', 'G', 'C', 'A', 'T', 'T', 'A', 'T', 'C', 'C', 'T', 'C', 'C', 'T', 'G', 'C', 'T', 'T', 'G', 'C', 'A', 'A', 'C', 'T', 'A', 'T', 'A', 'G', 'C', 'A', 'A', 'C', 'A', 'G', 'C', 'C', 'T', 'T', 'C', 'A', 'T', 'A', 'G', 'G', 'C', 'T', 'A', 'T', 'G', 'T', 'C', 'C', 'T', 'C', 'C', 'C', 'G', 'T', 'G', 'A', 'G', 'G', 'C', 'C', 'A', 'A', 'A', 'T', 'A', 'T', 'C', 'A', 'T', 'T', 'C', 'T', 'G', 'A', 'G', 'G', 'G', 'G', 'C', 'C', 'A', 'C', 'A', 'G', 'T', 'A', 'A', 'T', 'T', 'A', 'C', 'A', 'A', 'A', 'C', 'T', 'T', 'A', 'C', 'T', 'A', 'T', 'C', 'C', 'G', 'C', 'C', 'A', 'T', 'C', 'C', 'C', 'A', 'T', 'A', 'C', 'A', 'T', 'T', 'G', 'G', 'G', 'A', 'C', 'A', 'G', 'A', 'C', 'C', 'T', 'A', 'G', 'T', 'T', 'C', 'A', 'A', 'T', 'G', 'A', 'A', 'T', 'C', 'T', 'G', 'A', 'G', 'G', 'A', 'G', 'G', 'C', 'T', 'A', 'C', 'T', 'C', 'A', 'G', 'T', 'A', 'G', 'A', 'C', 'A', 'G', 'T', 'C', 'C', 'C', 'A', 'C', 'C', 'C', 'T', 'C', 'A', 'C', 'A', 'C', 'G', 'A', 'T', 'T', 'C', 'T', 'T', 'T', 'A', 'C', 'C', 'T', 'T', 'T', 'C', 'A', 'C', 'T', 'T', 'C', 'A', 'T', 'C', 'T', 'T', 'G', 'C', 'C', 'C', 'T', 'T', 'C', 'A', 'T', 'T', 'A', 'T', 'T', 'G', 'C', 'A', 'G', 'C', 'C', 'C', 'T', 'A', 'G', 'C', 'A', 'A', 'C', 'A', 'C', 'T', 'C', 'C', 'A', 'C', 'C', 'T', 'C', 'C', 'T', 'A', 'T', 'T', 'C', 'T', 'T', 'G', 'C', 'A', 'C', 'G', 'A', 'A', 'A', 'C', 'G', 'G', 'G', 'A', 'T', 'C', 'A', 'A', 'A', 'C', 'A', 'A', 'C', 'C', 'C', 'C', 'C', 'T', 'A', 'G', 'G', 'A', 'A', 'T', 'C', 'A', 'C', 'C', 'T', 'C', 'C', 'C', 'A', 'T', 'T', 'C', 'C', 'G', 'A', 'T', 'A', 'A', 'A', 'A', 'T', 'C', 'A', 'C', 'C', 'T', 'T', 'C', 'C', 'A', 'C', 'C', 'C', 'T', 'T', 'A', 'C', 'T', 'A', 'C', 'A', 'C', 'A', 'A', 'T', 'C', 'A', 'A', 'A', 'G', 'A', 'C', 'G', 'C', 'C', 'C', 'T', 'C', 'G', 'G', 'C', 'T', 'T', 'A', 'C', 'T', 'T', 'C', 'T', 'C', 'T', 'T', 'C', 'C', 'T', 'T', 'C', 'T', 'C', 'T', 'C', 'C', 'T', 'T', 'A', 'A', 'T', 'G', 'A', 'C', 'A', 'T', 'T', 'A', 'A', 'C', 'A', 'C', 'T', 'A', 'T', 'T', 'C', 'T', 'C', 'A', 'C', 'C', 'A', 'G', 'A', 'C', 'C', 'T', 'C', 'C', 'T', 'A', 'G', 'G', 'C', 'G', 'A', 'C', 'C', 'C', 'A', 'G', 'A', 'C', 'A', 'A', 'T', 'T', 'A', 'T', 'A', 'C', 'C', 'C', 'T', 'A', 'G', 'C', 'C', 'A', 'A', 'C', 'C', 'C', 'C', 'T', 'T', 'A', 'A', 'A', 'C', 'A', 'C', 'C', 'C', 'C', 'T', 'C', 'C', 'C', 'C', 'A', 'C', 'A', 'T', 'C', 'A', 'A', 'G', 'C', 'C', 'C', 'G', 'A', 'A', 'T', 'G', 'A', 'T', 'A', 'T', 'T', 'T', 'C', 'C', 'T', 'A', 'T', 'T', 'C', 'G', 'C', 'C', 'T', 'A', 'C', 'A', 'C', 'A', 'A', 'T', 'T', 'C', 'T', 'C', 'C', 'G', 'A', 'T', 'C', 'C', 'G', 'T', 'C', 'C', 'C', 'T', 'A', 'A', 'C', 'A', 'A', 'A', 'C', 'T', 'A', 'G', 'G', 'A', 'G', 'G', 'C', 'G', 'T', 'C', 'C', 'T', 'T', 'G', 'C', 'C', 'C', 'T', 'A', 'T', 'T', 'A', 'C', 'T', 'A', 'T', 'C', 'C', 'A', 'T', 'C', 'C', 'T', 'C', 'A', 'T', 'C', 'C', 'T', 'A', 'G', 'C', 'A', 'A', 'T', 'A', 'A', 'T', 'C', 'C', 'C', 'C', 'A', 'T', 'C', 'C', 'T', 'C', 'C', 'A', 'T', 'A', 'T', 'A', 'T', 'C', 'C', 'A', 'A', 'A', 'C', 'A', 'A', 'C', 'A', 'A', 'A', 'G', 'C', 'A', 'T', 'A', 'A', 'T', 'A', 'T', 'T', 'T', 'C', 'G', 'C', 'C', 'C', 'A', 'C', 'T', 'A', 'A', 'G', 'C', 'C', 'A', 'A', 'T', 'C', 'A', 'C', 'T', 'T', 'T', 'A', 'T', 'T', 'G', 'A', 'C', 'T', 'C', 'C', 'T', 'A', 'G', 'C', 'C', 'G', 'C', 'A', 'G', 'A', 'C', 'C', 'T', 'C', 'C', 'T', 'C', 'A', 'T', 'T', 'C', 'T', 'A', 'A', 'C', 'C', 'T', 'G', 'A', 'A', 'T', 'C', 'G', 'G', 'A', 'G', 'G', 'A', 'C', 'A', 'A', 'C', 'C', 'A', 'G', 'T', 'A', 'A', 'G', 'C', 'T', 'A', 'C', 'C', 'C', 'T', 'T', 'T', 'T', 'A', 'C', 'C', 'A', 'T', 'C', 'A', 'T', 'T', 'G', 'G', 'A', 'C', 'A', 'A', 'G', 'T', 'A', 'G', 'C', 'A', 'T', 'C', 'C', 'G', 'T', 'A', 'C', 'T', 'A', 'T', 'A', 'C', 'T', 'T', 'C', 'A', 'C', 'A', 'A', 'C', 'A', 'A', 'T', 'C', 'C', 'T', 'A', 'A', 'T', 'C', 'C', 'T', 'A', 'A', 'T', 'A', 'C', 'C', 'A', 'A', 'C', 'T', 'A', 'T', 'C', 'T', 'C', 'C', 'C', 'T', 'A', 'A', 'T', 'T', 'G', 'A', 'A', 'A', 'A', 'C', 'A', 'A', 'A', 'A', 'T', 'A', 'C', 'T', 'C', 'A', 'A', 'A', 'T', 'G', 'G', 'G', 'C', 'C', 'T')\n",
      "('A', 'T', 'G', 'A', 'C', 'C', 'C', 'C', 'A', 'A', 'T', 'A', 'C', 'G', 'C', 'A', 'A', 'A', 'A', 'C', 'T', 'A', 'A', 'C', 'C', 'C', 'C', 'C', 'T', 'A', 'A', 'T', 'A', 'A', 'A', 'A', 'T', 'T', 'A', 'A', 'T', 'T', 'A', 'A', 'C', 'C', 'A', 'C', 'T', 'C', 'A', 'T', 'T', 'C', 'A', 'T', 'C', 'G', 'A', 'C', 'C', 'T', 'C', 'C', 'C', 'C', 'A', 'C', 'C', 'C', 'C', 'A', 'T', 'C', 'C', 'A', 'A', 'C', 'A', 'T', 'C', 'T', 'C', 'C', 'G', 'C', 'A', 'T', 'G', 'A', 'T', 'G', 'A', 'A', 'A', 'C', 'T', 'T', 'C', 'G', 'G', 'C', 'T', 'C', 'A', 'C', 'T', 'C', 'C', 'T', 'T', 'G', 'G', 'C', 'G', 'C', 'C', 'T', 'G', 'C', 'C', 'T', 'G', 'A', 'T', 'C', 'C', 'T', 'C', 'C', 'A', 'A', 'A', 'T', 'C', 'A', 'C', 'C', 'A', 'C', 'A', 'G', 'G', 'A', 'C', 'T', 'A', 'T', 'T', 'C', 'C', 'T', 'A', 'G', 'C', 'C', 'A', 'T', 'G', 'C', 'A', 'C', 'T', 'A', 'C', 'T', 'C', 'A', 'C', 'C', 'A', 'G', 'A', 'C', 'G', 'C', 'C', 'T', 'C', 'A', 'A', 'C', 'C', 'G', 'C', 'C', 'T', 'T', 'T', 'T', 'C', 'A', 'T', 'C', 'A', 'A', 'T', 'C', 'G', 'C', 'C', 'C', 'A', 'C', 'A', 'T', 'C', 'A', 'C', 'T', 'C', 'G', 'A', 'G', 'A', 'C', 'G', 'T', 'A', 'A', 'A', 'T', 'T', 'A', 'T', 'G', 'G', 'C', 'T', 'G', 'A', 'A', 'T', 'C', 'A', 'T', 'C', 'C', 'G', 'C', 'T', 'A', 'C', 'C', 'T', 'T', 'C', 'A', 'C', 'G', 'C', 'C', 'A', 'A', 'T', 'G', 'G', 'C', 'G', 'C', 'C', 'T', 'C', 'A', 'A', 'T', 'A', 'T', 'T', 'C', 'T', 'T', 'T', 'A', 'T', 'C', 'T', 'G', 'C', 'C', 'T', 'C', 'T', 'T', 'C', 'C', 'T', 'A', 'C', 'A', 'C', 'A', 'T', 'C', 'G', 'G', 'G', 'C', 'G', 'A', 'G', 'G', 'C', 'C', 'T', 'A', 'T', 'A', 'T', 'T', 'A', 'C', 'G', 'G', 'A', 'T', 'C', 'A', 'T', 'T', 'T', 'C', 'T', 'C', 'T', 'A', 'C', 'T', 'C', 'A', 'G', 'A', 'A', 'A', 'C', 'C', 'T', 'G', 'A', 'A', 'A', 'C', 'A', 'T', 'C', 'G', 'G', 'C', 'A', 'T', 'T', 'A', 'T', 'C', 'C', 'T', 'C', 'C', 'T', 'G', 'C', 'T', 'T', 'G', 'C', 'A', 'A', 'C', 'T', 'A', 'T', 'A', 'G', 'C', 'A', 'A', 'C', 'A', 'G', 'C', 'C', 'T', 'T', 'C', 'A', 'T', 'A', 'G', 'G', 'C', 'T', 'A', 'T', 'G', 'T', 'C', 'C', 'T', 'C', 'C', 'C', 'G', 'T', 'G', 'A', 'G', 'G', 'C', 'C', 'A', 'A', 'A', 'T', 'A', 'T', 'C', 'A', 'T', 'T', 'C', 'T', 'G', 'A', 'G', 'G', 'G', 'G', 'C', 'C', 'A', 'C', 'A', 'G', 'T', 'A', 'A', 'T', 'T', 'A', 'C', 'A', 'A', 'A', 'C', 'T', 'T', 'A', 'C', 'T', 'A', 'T', 'C', 'C', 'G', 'C', 'C', 'A', 'T', 'C', 'C', 'C', 'A', 'T', 'A', 'C', 'A', 'T', 'T', 'G', 'G', 'G', 'A', 'C', 'A', 'G', 'A', 'C', 'C', 'T', 'A', 'G', 'T', 'T', 'C', 'A', 'A', 'T', 'G', 'A', 'A', 'T', 'C', 'T', 'G', 'A', 'A', 'G', 'A', 'G', 'G', 'C', 'T', 'A', 'C', 'T', 'C', 'A', 'G', 'T', 'A', 'G', 'A', 'C', 'A', 'G', 'T', 'C', 'C', 'C', 'A', 'C', 'C', 'C', 'T', 'C', 'A', 'C', 'A', 'C', 'G', 'A', 'T', 'T', 'C', 'T', 'T', 'T', 'A', 'C', 'C', 'T', 'T', 'T', 'C', 'A', 'C', 'T', 'T', 'C', 'A', 'T', 'C', 'T', 'T', 'G', 'C', 'C', 'C', 'T', 'T', 'C', 'A', 'T', 'T', 'A', 'T', 'T', 'G', 'C', 'A', 'G', 'C', 'C', 'C', 'T', 'A', 'G', 'C', 'A', 'A', 'C', 'A', 'C', 'T', 'C', 'C', 'A', 'C', 'C', 'T', 'C', 'C', 'T', 'A', 'T', 'T', 'C', 'T', 'T', 'G', 'C', 'A', 'C', 'G', 'A', 'A', 'A', 'C', 'G', 'G', 'G', 'A', 'T', 'C', 'A', 'A', 'A', 'C', 'A', 'A', 'C', 'C', 'C', 'C', 'C', 'T', 'A', 'G', 'G', 'A', 'A', 'T', 'C', 'A', 'C', 'C', 'T', 'C', 'C', 'C', 'A', 'T', 'T', 'C', 'C', 'G', 'A', 'T', 'A', 'A', 'A', 'A', 'T', 'C', 'A', 'C', 'C', 'T', 'T', 'C', 'C', 'A', 'C', 'C', 'C', 'T', 'T', 'A', 'C', 'T', 'A', 'C', 'A', 'C', 'A', 'A', 'T', 'C', 'A', 'A', 'A', 'G', 'A', 'C', 'G', 'C', 'C', 'C', 'T', 'C', 'G', 'G', 'C', 'T', 'T', 'A', 'C', 'T', 'T', 'C', 'T', 'C', 'T', 'T', 'C', 'C', 'T', 'T', 'C', 'T', 'C', 'T', 'C', 'C', 'T', 'T', 'A', 'A', 'T', 'G', 'A', 'C', 'A', 'T', 'T', 'A', 'A', 'C', 'A', 'C', 'T', 'A', 'T', 'T', 'C', 'T', 'C', 'A', 'C', 'C', 'A', 'G', 'A', 'C', 'C', 'T', 'C', 'C', 'T', 'A', 'A', 'G', 'C', 'G', 'A', 'C', 'C', 'C', 'A', 'G', 'A', 'C', 'A', 'A', 'T', 'T', 'A', 'T', 'A', 'C', 'C', 'C', 'T', 'A', 'G', 'C', 'C', 'A', 'A', 'C', 'C', 'C', 'C', 'T', 'T', 'A', 'A', 'A', 'C', 'A', 'C', 'C', 'C', 'C', 'T', 'C', 'C', 'C', 'C', 'A', 'C', 'A', 'T', 'C', 'A', 'A', 'G', 'C', 'C', 'C', 'G', 'A', 'A', 'T', 'G', 'A', 'T', 'A', 'T', 'T', 'T', 'C', 'C', 'T', 'A', 'T', 'T', 'C', 'G', 'C', 'C', 'T', 'A', 'C', 'A', 'C', 'A', 'A', 'T', 'T', 'C', 'T', 'C', 'C', 'G', 'A', 'T', 'C', 'C', 'G', 'T', 'C', 'C', 'C', 'T', 'A', 'A', 'C', 'A', 'A', 'A', 'C', 'T', 'A', 'G', 'G', 'A', 'G', 'A', 'C', 'G', 'T', 'C', 'C', 'T', 'T', 'G', 'C', 'C', 'C', 'T', 'A', 'T', 'T', 'A', 'C', 'T', 'A', 'T', 'C', 'C', 'A', 'T', 'C', 'C', 'T', 'C', 'A', 'T', 'C', 'C', 'T', 'A', 'G', 'C', 'A', 'A', 'T', 'A', 'A', 'T', 'C', 'C', 'C', 'C', 'A', 'T', 'C', 'C', 'T', 'C', 'C', 'A', 'T', 'A', 'T', 'A', 'T', 'C', 'C', 'A', 'A', 'A', 'C', 'A', 'A', 'C', 'A', 'A', 'A', 'G', 'C', 'A', 'T', 'A', 'A', 'T', 'A', 'T', 'T', 'T', 'C', 'G', 'C', 'C', 'C', 'A', 'C', 'T', 'A', 'A', 'G', 'C', 'C', 'A', 'A', 'T', 'C', 'A', 'C', 'T', 'T', 'T', 'A', 'T', 'T', 'G', 'A', 'C', 'T', 'C', 'C', 'T', 'A', 'G', 'C', 'C', 'G', 'C', 'A', 'G', 'A', 'C', 'C', 'T', 'C', 'C', 'T', 'C', 'A', 'T', 'T', 'C', 'T', 'A', 'A', 'C', 'C', 'T', 'G', 'A', 'A', 'T', 'C', 'G', 'G', 'A', 'G', 'G', 'A', 'C', 'A', 'A', 'C', 'C', 'A', 'G', 'T', 'A', 'A', 'G', 'C', 'T', 'A', 'C', 'C', 'C', 'T', 'T', 'T', 'T', 'A', 'C', 'C', 'A', 'T', 'C', 'A', 'T', 'T', 'G', 'G', 'A', 'C', 'A', 'A', 'G', 'T', 'A', 'G', 'C', 'A', 'T', 'C', 'C', 'G', 'T', 'A', 'C', 'T', 'A', 'T', 'A', 'C', 'T', 'T', 'C', 'A', 'C', 'A', 'A', 'C', 'A', 'A', 'T', 'C', 'C', 'T', 'A', 'A', 'T', 'C', 'C', 'T', 'A', 'A', 'T', 'A', 'C', 'C', 'A', 'A', 'C', 'T', 'A', 'T', 'C', 'T', 'C', 'C', 'C', 'T', 'A', 'A', 'T', 'T', 'G', 'A', 'A', 'A', 'A', 'C', 'A', 'A', 'A', 'A', 'T', 'A', 'C', 'T', 'C', 'A', 'A', 'A', 'T', 'G', 'G', 'G', 'C', 'C', 'T')\n"
     ]
    }
   ],
   "source": [
    "#converts the sequences into tuple which are immutable \n",
    "#ref = MT-CYB-wt gene\n",
    "#mut = MT-CYB-mut gene\n",
    "ref = tuple(\"ATGACCCCAATACGCAAAACTAACCCCCTAATAAAATTAATTAACCACTCATTCATCGACCTCCCCACCCCATCCAACATCTCCGCATGATGAAACTTCGGCTCACTCCTTGGCGCCTGCCTGATCCTCCAAATCACCACAGGACTATTCCTAGCCATGCACTACTCACCAGACGCCTCAACCGCCTTTTCATCAATCGCCCACATCACTCGAGACGTAAATTATGGCTGAATCATCCGCTACCTTCACGCCAATGGCGCCTCAATATTCTTTATCTGCCTCTTCCTACACATCGGGCGAGGCCTATATTACGGATCATTTCTCTACTCAGAAACCTGAAACATCGGCATTATCCTCCTGCTTGCAACTATAGCAACAGCCTTCATAGGCTATGTCCTCCCGTGAGGCCAAATATCATTCTGAGGGGCCACAGTAATTACAAACTTACTATCCGCCATCCCATACATTGGGACAGACCTAGTTCAATGAATCTGAGGAGGCTACTCAGTAGACAGTCCCACCCTCACACGATTCTTTACCTTTCACTTCATCTTGCCCTTCATTATTGCAGCCCTAGCAACACTCCACCTCCTATTCTTGCACGAAACGGGATCAAACAACCCCCTAGGAATCACCTCCCATTCCGATAAAATCACCTTCCACCCTTACTACACAATCAAAGACGCCCTCGGCTTACTTCTCTTCCTTCTCTCCTTAATGACATTAACACTATTCTCACCAGACCTCCTAGGCGACCCAGACAATTATACCCTAGCCAACCCCTTAAACACCCCTCCCCACATCAAGCCCGAATGATATTTCCTATTCGCCTACACAATTCTCCGATCCGTCCCTAACAAACTAGGAGGCGTCCTTGCCCTATTACTATCCATCCTCATCCTAGCAATAATCCCCATCCTCCATATATCCAAACAACAAAGCATAATATTTCGCCCACTAAGCCAATCACTTTATTGACTCCTAGCCGCAGACCTCCTCATTCTAACCTGAATCGGAGGACAACCAGTAAGCTACCCTTTTACCATCATTGGACAAGTAGCATCCGTACTATACTTCACAACAATCCTAATCCTAATACCAACTATCTCCCTAATTGAAAACAAAATACTCAAATGGGCCT\") \n",
    "mut = tuple(\"ATGACCCCAATACGCAAAACTAACCCCCTAATAAAATTAATTAACCACTCATTCATCGACCTCCCCACCCCATCCAACATCTCCGCATGATGAAACTTCGGCTCACTCCTTGGCGCCTGCCTGATCCTCCAAATCACCACAGGACTATTCCTAGCCATGCACTACTCACCAGACGCCTCAACCGCCTTTTCATCAATCGCCCACATCACTCGAGACGTAAATTATGGCTGAATCATCCGCTACCTTCACGCCAATGGCGCCTCAATATTCTTTATCTGCCTCTTCCTACACATCGGGCGAGGCCTATATTACGGATCATTTCTCTACTCAGAAACCTGAAACATCGGCATTATCCTCCTGCTTGCAACTATAGCAACAGCCTTCATAGGCTATGTCCTCCCGTGAGGCCAAATATCATTCTGAGGGGCCACAGTAATTACAAACTTACTATCCGCCATCCCATACATTGGGACAGACCTAGTTCAATGAATCTGAAGAGGCTACTCAGTAGACAGTCCCACCCTCACACGATTCTTTACCTTTCACTTCATCTTGCCCTTCATTATTGCAGCCCTAGCAACACTCCACCTCCTATTCTTGCACGAAACGGGATCAAACAACCCCCTAGGAATCACCTCCCATTCCGATAAAATCACCTTCCACCCTTACTACACAATCAAAGACGCCCTCGGCTTACTTCTCTTCCTTCTCTCCTTAATGACATTAACACTATTCTCACCAGACCTCCTAAGCGACCCAGACAATTATACCCTAGCCAACCCCTTAAACACCCCTCCCCACATCAAGCCCGAATGATATTTCCTATTCGCCTACACAATTCTCCGATCCGTCCCTAACAAACTAGGAGACGTCCTTGCCCTATTACTATCCATCCTCATCCTAGCAATAATCCCCATCCTCCATATATCCAAACAACAAAGCATAATATTTCGCCCACTAAGCCAATCACTTTATTGACTCCTAGCCGCAGACCTCCTCATTCTAACCTGAATCGGAGGACAACCAGTAAGCTACCCTTTTACCATCATTGGACAAGTAGCATCCGTACTATACTTCACAACAATCCTAATCCTAATACCAACTATCTCCCTAATTGAAAACAAAATACTCAAATGGGCCT\")\n",
    "print(ref)\n",
    "print(mut)"
   ]
  },
  {
   "cell_type": "markdown",
   "id": "a7c65993-613d-4e14-8867-3e8af1f0b5d5",
   "metadata": {},
   "source": [
    "### mutation\n",
    "This code identifies the  number of nucleotide mutated in the wild type versus the mutated"
   ]
  },
  {
   "cell_type": "code",
   "execution_count": 13,
   "id": "af2e64f7-60eb-43f3-bd91-e294c9bbde02",
   "metadata": {},
   "outputs": [
    {
     "name": "stdout",
     "output_type": "stream",
     "text": [
      "[('G', 'A'), ('G', 'A'), ('G', 'A')] [(495, 495), (750, 750), (868, 868)]\n"
     ]
    }
   ],
   "source": [
    "# finds the mutated nucleotide of the sequence\n",
    "d = []\n",
    "f = []\n",
    "# iterates through the sequences \n",
    "for i,a in  enumerate(ref):\n",
    "    for j,b in enumerate(mut):\n",
    "#checks if the nucleotide is similar in the wild type and mutated\n",
    "        if a != b:\n",
    "            if i == j:\n",
    "# appends the position and the nucleotide in a new list\n",
    "                d.append((a,b))\n",
    "                f.append((i,j))\n",
    "\n",
    "print(d,f)\n"
   ]
  },
  {
   "cell_type": "markdown",
   "id": "7f65d859-91d1-4aa6-a613-24ef94bc6ced",
   "metadata": {},
   "source": [
    "### Translating nucleotide to protein\n",
    "converting the DNA to proteins"
   ]
  },
  {
   "cell_type": "code",
   "execution_count": 15,
   "id": "0d3f3582-8fc5-40ec-85d7-cb1f1c62533c",
   "metadata": {},
   "outputs": [
    {
     "name": "stdout",
     "output_type": "stream",
     "text": [
      ">MT-CYB-wt protein\n",
      "MTPIRKTNPLIKLINHSFIDLPTPSNISA__NFGSLLGACLILQITTGLFLAMHYSPDASTAFSSIAHITRDVNYG_IIRYLHANGASIFFICLFLHIGRGLYYGSFLYSET_NIGIILLLATIATAFIGYVLP_GQISF_GATVITNLLSAIPYIGTDLVQ_I_GGYSVDSPTLTRFFTFHFILPFIIAALATLHLLFLHETGSNNPLGITSHSDKITFHPYYTIKDALGLLLFLLSLMTLTLFSPDLLGDPDNYTLANPLNTPPHIKPE_YFLFAYTILRSVPNKLGGVLALLLSILILAIIPILHISKQQSIIFRPLSQSLY_LLAADLLILT_IGGQPVSYPFTIIGQVASVLYFTTILILIPTISLIENKILKWA\n",
      ">MT-CYB-mut protein\n",
      "MTPIRKTNPLIKLINHSFIDLPTPSNISA__NFGSLLGACLILQITTGLFLAMHYSPDASTAFSSIAHITRDVNYG_IIRYLHANGASIFFICLFLHIGRGLYYGSFLYSET_NIGIILLLATIATAFIGYVLP_GQISF_GATVITNLLSAIPYIGTDLVQ_I_RGYSVDSPTLTRFFTFHFILPFIIAALATLHLLFLHETGSNNPLGITSHSDKITFHPYYTIKDALGLLLFLLSLMTLTLFSPDLLSDPDNYTLANPLNTPPHIKPE_YFLFAYTILRSVPNKLGDVLALLLSILILAIIPILHISKQQSIIFRPLSQSLY_LLAADLLILT_IGGQPVSYPFTIIGQVASVLYFTTILILIPTISLIENKILKWA\n"
     ]
    }
   ],
   "source": [
    "\n",
    "#translating nucleotide to proteins\n",
    "\n",
    "def translate(seq):\n",
    "      #codon table \n",
    "    table = {\n",
    "        'ATA':'I', 'ATC':'I', 'ATT':'I', 'ATG':'M',\n",
    "        'ACA':'T', 'ACC':'T', 'ACG':'T', 'ACT':'T',\n",
    "        'AAC':'N', 'AAT':'N', 'AAA':'K', 'AAG':'K',\n",
    "        'AGC':'S', 'AGT':'S', 'AGA':'R', 'AGG':'R',\n",
    "        'CTA':'L', 'CTC':'L', 'CTG':'L', 'CTT':'L',\n",
    "        'CCA':'P', 'CCC':'P', 'CCG':'P', 'CCT':'P',\n",
    "        'CAC':'H', 'CAT':'H', 'CAA':'Q', 'CAG':'Q',\n",
    "        'CGA':'R', 'CGC':'R', 'CGG':'R', 'CGT':'R',\n",
    "        'GTA':'V', 'GTC':'V', 'GTG':'V', 'GTT':'V',\n",
    "        'GCA':'A', 'GCC':'A', 'GCG':'A', 'GCT':'A',\n",
    "        'GAC':'D', 'GAT':'D', 'GAA':'E', 'GAG':'E',\n",
    "        'GGA':'G', 'GGC':'G', 'GGG':'G', 'GGT':'G',\n",
    "        'TCA':'S', 'TCC':'S', 'TCG':'S', 'TCT':'S',\n",
    "        'TTC':'F', 'TTT':'F', 'TTA':'L', 'TTG':'L',\n",
    "        'TAC':'Y', 'TAT':'Y', 'TAA':'_', 'TAG':'_',\n",
    "        'TGC':'C', 'TGT':'C', 'TGA':'_', 'TGG':'W',\n",
    "    }\n",
    "    protein =\"\"\n",
    "    if len(seq)%3 != 0:\n",
    "        for i in range(0, len(seq)-1, 3):\n",
    "            codon = seq[i:i + 3]\n",
    "            protein+= table[codon]\n",
    "    return protein\n",
    "#converts the tuple to a string to use the fun (translate)\n",
    "str = ''.join(mut)\n",
    "str2 = ''.join(ref)\n",
    "# converts the string to a protein\n",
    "p_ref=translate(str2)\n",
    "p_mut=translate(str)\n",
    "#displays the protein used\n",
    "print(\">MT-CYB-wt protein\")\n",
    "print(p_ref)\n",
    "print(\">MT-CYB-mut protein\")\n",
    "print(p_mut)"
   ]
  },
  {
   "cell_type": "markdown",
   "id": "a17199e0-3922-4440-9cd4-114da70a3cee",
   "metadata": {},
   "source": [
    "### mutation\n",
    "This code identifies the  number of amino acid mutated in the wild type versus the mutated"
   ]
  },
  {
   "cell_type": "code",
   "execution_count": 16,
   "id": "511e0d65-d84a-4b71-b762-5ac14a3de82b",
   "metadata": {},
   "outputs": [
    {
     "name": "stdout",
     "output_type": "stream",
     "text": [
      "[('G', 'R'), ('G', 'S'), ('G', 'D')] [(165, 165), (250, 250), (289, 289)]\n"
     ]
    }
   ],
   "source": [
    "#converts the protein in a immutable tuple\n",
    "prot_ref = tuple(p_ref)\n",
    "prot_mut = tuple(p_mut)\n",
    "# finds the mutated aminoacid of the sequence\n",
    "d = []\n",
    "f = []\n",
    "# iterates through the sequences\n",
    "for i,a in  enumerate(prot_ref):\n",
    "    for j,b in enumerate(prot_mut):\n",
    "#checks if the proteins are  similar in the wild type and mutated\n",
    "        if a != b:\n",
    "            if i == j:\n",
    "# appends the position and the amino acid in a new list\n",
    "                d.append((a,b))\n",
    "                f.append((i,j))\n",
    "\n",
    "print(d,f)\n"
   ]
  }
 ],
 "metadata": {
  "kernelspec": {
   "display_name": "Python 3 (ipykernel)",
   "language": "python",
   "name": "python3"
  },
  "language_info": {
   "codemirror_mode": {
    "name": "ipython",
    "version": 3
   },
   "file_extension": ".py",
   "mimetype": "text/x-python",
   "name": "python",
   "nbconvert_exporter": "python",
   "pygments_lexer": "ipython3",
   "version": "3.9.7"
  }
 },
 "nbformat": 4,
 "nbformat_minor": 5
}
