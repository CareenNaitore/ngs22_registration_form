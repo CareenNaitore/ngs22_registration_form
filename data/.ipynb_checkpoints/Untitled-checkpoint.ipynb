{
 "cells": [
  {
   "cell_type": "markdown",
   "id": "4eff9f06-e3fc-4be3-bc7e-31c33923c854",
   "metadata": {},
   "source": [
    "# C4 to C6 - Single cell RNA-seq studies\n",
    "Single-cell RNA sequencing (scRNA-seq) is arguably the most dramatically growing technology in both scale and use today. \n",
    "A curated database of scRNA-seq studies is available at https://www.nxn.se/single-cell-studies. \n",
    "Answer the following questions using the snapshot of data from https://github.com/NGSchoolEU/ngs22_registration_form/blob/1cc647a3733e2c8a21b47aa497b4ca8c42457aa8/data/single-cell-studies.tsv"
   ]
  },
  {
   "cell_type": "code",
   "execution_count": 18,
   "id": "14780025-7c0d-488f-9750-05236c6e43f0",
   "metadata": {},
   "outputs": [],
   "source": [
    "# importing re library\n",
    "import re\n",
    "import pandas as pd\n",
    "import numpy as np"
   ]
  },
  {
   "cell_type": "code",
   "execution_count": 19,
   "id": "d3582b68-21d6-46af-b017-1f2c6c6c7ebd",
   "metadata": {},
   "outputs": [],
   "source": [
    "data = pd.read_csv('single-cell-studies.tsv',sep=\"\\t\")\n"
   ]
  },
  {
   "cell_type": "code",
   "execution_count": 20,
   "id": "d7edf7f8-409c-4ec9-8312-e85f64c57be3",
   "metadata": {},
   "outputs": [
    {
     "name": "stdout",
     "output_type": "stream",
     "text": [
      "Shorthand                                     object\n",
      "DOI                                           object\n",
      "Authors                                       object\n",
      "Journal                                       object\n",
      "Title                                         object\n",
      "Date                                           int64\n",
      "bioRxiv DOI                                   object\n",
      "Reported cells total                          object\n",
      "Organism                                      object\n",
      "Tissue                                        object\n",
      "Technique                                     object\n",
      "Data location                                 object\n",
      "Panel size                                    object\n",
      "Measurement                                   object\n",
      "Cell source                                   object\n",
      "Disease                                       object\n",
      "Contrasts                                     object\n",
      "Developmental stage                           object\n",
      "Number of reported cell types or clusters    float64\n",
      "Cell clustering                               object\n",
      "Pseudotime                                    object\n",
      "RNA Velocity                                  object\n",
      "PCA                                           object\n",
      "tSNE                                          object\n",
      "H5AD location                                 object\n",
      "Isolation                                     object\n",
      "BC --> Cell ID _OR_ BC --> Cluster ID         object\n",
      "Number individuals                           float64\n",
      "dtype: object\n"
     ]
    }
   ],
   "source": [
    "print(data.dtypes)"
   ]
  },
  {
   "cell_type": "code",
   "execution_count": 8,
   "id": "1ff382fc-5248-46da-ac2a-13a1cba21773",
   "metadata": {},
   "outputs": [
    {
     "name": "stdout",
     "output_type": "stream",
     "text": [
      "(1593, 28)\n"
     ]
    }
   ],
   "source": [
    "print(data.shape) "
   ]
  },
  {
   "cell_type": "code",
   "execution_count": 32,
   "id": "fe8d51ef-c74e-4e60-b5a8-dae069146e85",
   "metadata": {},
   "outputs": [],
   "source": [
    "#Identifies the organisms that are more than one \n",
    "df = data[data['Organism']== data['Organism'].str.extract(r'(.*,.*)', expand=False).str.strip()]"
   ]
  },
  {
   "cell_type": "code",
   "execution_count": 33,
   "id": "5065f8f9-6bf1-4f3a-924c-37cb1213eda2",
   "metadata": {},
   "outputs": [
    {
     "name": "stdout",
     "output_type": "stream",
     "text": [
      "(147, 28)\n"
     ]
    }
   ],
   "source": [
    "print(df.shape)"
   ]
  },
  {
   "cell_type": "code",
   "execution_count": 34,
   "id": "77dac221-190c-4836-aefb-3dfc4bc1ff87",
   "metadata": {},
   "outputs": [],
   "source": [
    "#Identifies the organisms that are more than one \n",
    "df2 = data[data['Organism']!= data['Organism'].str.extract(r'(.*,.*)', expand=False).str.strip()]"
   ]
  },
  {
   "cell_type": "code",
   "execution_count": 35,
   "id": "6d5bda3d-9676-4ff0-9bcc-70bcc6ccea8f",
   "metadata": {},
   "outputs": [
    {
     "name": "stdout",
     "output_type": "stream",
     "text": [
      "(1446, 28)\n"
     ]
    }
   ],
   "source": [
    "print(df2.shape)"
   ]
  },
  {
   "cell_type": "code",
   "execution_count": null,
   "id": "c88ee69e-63f2-4e31-b128-799e516fbf11",
   "metadata": {},
   "outputs": [],
   "source": []
  }
 ],
 "metadata": {
  "kernelspec": {
   "display_name": "Python 3 (ipykernel)",
   "language": "python",
   "name": "python3"
  },
  "language_info": {
   "codemirror_mode": {
    "name": "ipython",
    "version": 3
   },
   "file_extension": ".py",
   "mimetype": "text/x-python",
   "name": "python",
   "nbconvert_exporter": "python",
   "pygments_lexer": "ipython3",
   "version": "3.9.7"
  }
 },
 "nbformat": 4,
 "nbformat_minor": 5
}
