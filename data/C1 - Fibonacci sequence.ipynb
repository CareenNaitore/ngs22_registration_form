{
 "cells": [
  {
   "cell_type": "markdown",
   "id": "2dbd6cb4-d7ec-49d7-962f-988f7b686057",
   "metadata": {},
   "source": [
    "# C1 - Fibonacci sequence"
   ]
  },
  {
   "cell_type": "markdown",
   "id": "b303dc92-8c8a-4813-8526-82545b9bd5d4",
   "metadata": {},
   "source": [
    "The Fibonacci sequence sequence starts with 0 and 1 (positions 1 and 2). Each next element is a sum of two preceding elements. \n",
    "What is the difference between elements at positions 55th and 45th multiplied by the element at position 5th?"
   ]
  },
  {
   "cell_type": "code",
   "execution_count": 2,
   "id": "8a6d4b4c-06ae-4c29-8d71-acec37f98538",
   "metadata": {},
   "outputs": [
    {
     "name": "stdout",
     "output_type": "stream",
     "text": [
      "692244796375\n"
     ]
    }
   ],
   "source": [
    "#This code gives nth number in fibonacci series - {0,1,1,2,3,5,......}.\n",
    "def fibonacci(n, second_last, last):\n",
    "    if n-1 == 0:\n",
    "        return second_last\n",
    "    else:\n",
    "        new_last = second_last + last\n",
    "        second_last = last\n",
    "        return fibonacci(n-1, second_last, new_last)\n",
    "\n",
    "#determine the difference  of position 55 and 45 and multiplied by 5\n",
    "if __name__ == \"__main__\":\n",
    "    Var=((fibonacci(56, 0, 1)-fibonacci(46, 0, 1))*fibonacci(6,0,1))\n",
    "    print(Var)\n"
   ]
  }
 ],
 "metadata": {
  "kernelspec": {
   "display_name": "Python 3 (ipykernel)",
   "language": "python",
   "name": "python3"
  },
  "language_info": {
   "codemirror_mode": {
    "name": "ipython",
    "version": 3
   },
   "file_extension": ".py",
   "mimetype": "text/x-python",
   "name": "python",
   "nbconvert_exporter": "python",
   "pygments_lexer": "ipython3",
   "version": "3.9.7"
  }
 },
 "nbformat": 4,
 "nbformat_minor": 5
}
